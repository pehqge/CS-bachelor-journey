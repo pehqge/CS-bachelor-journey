{
 "cells": [
  {
   "cell_type": "markdown",
   "metadata": {},
   "source": [
    "# Lista de Exercícios 2 | POO II \n",
    "### Pedro Henrique Gimenez - 23102766\n",
    "---"
   ]
  },
  {
   "cell_type": "markdown",
   "metadata": {},
   "source": [
    "#### Exercício 1. Faça um Programa que leia um vetor de 5 números inteiros e mostre-os."
   ]
  },
  {
   "cell_type": "code",
   "execution_count": 12,
   "metadata": {},
   "outputs": [
    {
     "name": "stdout",
     "output_type": "stream",
     "text": [
      "Sua lista é feita dos números [5, 6, 3, 5, 3]\n"
     ]
    }
   ],
   "source": [
    "class Vetor:\n",
    "    def __init__(self, tamanho: int):\n",
    "        self.tamanho = tamanho\n",
    "        self.lista = []\n",
    "        self.criar()\n",
    "        \n",
    "    def criar(self):\n",
    "        for i in range(self.tamanho):\n",
    "            valor = input(f\"Digite o {i+1}º valor da lista: \")\n",
    "            self.lista.append(int(valor))\n",
    "            \n",
    "    def mostrar(self):\n",
    "        print(f\"Sua lista é feita dos números {self.lista}\")\n",
    "\n",
    "ex1 = Vetor(5)\n",
    "ex1.mostrar()"
   ]
  },
  {
   "cell_type": "markdown",
   "metadata": {},
   "source": [
    "#### Exercício 2. Faça um Programa que leia um vetor de 10 números reais e mostre-os na ordem inversa."
   ]
  },
  {
   "cell_type": "code",
   "execution_count": 16,
   "metadata": {},
   "outputs": [
    {
     "name": "stdout",
     "output_type": "stream",
     "text": [
      "Sua lista é feita dos números [8, 7, 6, 5, 4, 3, 2, 1, 3, 3875]\n"
     ]
    }
   ],
   "source": [
    "class Vetor:\n",
    "    def __init__(self, tamanho: int):\n",
    "        self.tamanho = tamanho\n",
    "        self.lista = []\n",
    "        self.criar()\n",
    "        \n",
    "    def criar(self):\n",
    "        for i in range(self.tamanho):\n",
    "            valor = input(f\"Digite o {i+1}º valor da lista: \")\n",
    "            self.lista.append(int(valor))\n",
    "            \n",
    "    def mostrar(self):\n",
    "        print(f\"Sua lista é feita dos números {self.lista}\")\n",
    "        \n",
    "    def reverso(self):\n",
    "        self.lista.reverse()\n",
    "        \n",
    "\n",
    "ex2 = Vetor(10)\n",
    "ex2.reverso()\n",
    "ex2.mostrar()"
   ]
  },
  {
   "cell_type": "markdown",
   "metadata": {},
   "source": [
    "#### Exercício 3. Faça um Programa que leia 4 notas, mostre as notas e a média na tela."
   ]
  },
  {
   "cell_type": "code",
   "execution_count": 22,
   "metadata": {},
   "outputs": [
    {
     "name": "stdout",
     "output_type": "stream",
     "text": [
      "Suas notas são 90, 80, 70 e 30.\n",
      "A média das notas é 67.50\n"
     ]
    }
   ],
   "source": [
    "class Notas:\n",
    "    def __init__(self, notas: list):\n",
    "        self.notas = notas\n",
    "        \n",
    "    def __str__(self):\n",
    "        string = \"\"\n",
    "        for i in range(len(self.notas)):\n",
    "            if i == len(self.notas)-1:\n",
    "                string += str(self.notas[i]) + \".\"\n",
    "            elif i == len(self.notas)-2:\n",
    "                string += str(self.notas[i]) + \" e \"\n",
    "            else:\n",
    "                string += str(self.notas[i]) + \", \"\n",
    "        return string\n",
    "            \n",
    "        \n",
    "    def mostrar_notas(self):\n",
    "        print(f\"Suas notas são {self}\")\n",
    "        \n",
    "    def mostrar_media(self):\n",
    "        media = sum(self.notas)/len(self.notas)\n",
    "        print(f\"A média das notas é {media:.02f}\")\n",
    "        \n",
    "notas = Notas([90, 80, 70, 30])\n",
    "notas.mostrar_notas()\n",
    "notas.mostrar_media()"
   ]
  },
  {
   "cell_type": "markdown",
   "metadata": {},
   "source": [
    "#### Exercício 4. Faça um Programa que leia um vetor de 10 caracteres, e diga quantas consoantes foram lidas. Imprima as consoantes."
   ]
  },
  {
   "cell_type": "code",
   "execution_count": 3,
   "metadata": {},
   "outputs": [
    {
     "name": "stdout",
     "output_type": "stream",
     "text": [
      "No total, há 9 consoante(s) na palavra pindamonhangaba\n",
      "São elas: p, n, d, m, n, h, n, g e b.\n"
     ]
    }
   ],
   "source": [
    "consoante = list(\"qwrtypsdfghjklzxcvbnm\".strip(\"\"))\n",
    "def consoantes(string):\n",
    "    resposta = []\n",
    "    resp_string = \"\"\n",
    "    for i in string:\n",
    "        if i in consoante:\n",
    "            resposta.append(i)\n",
    "    print(f\"No total, há {len(resposta)} consoante(s) na palavra {string}\")\n",
    "    for i in range(len(resposta)):\n",
    "        if i == len(resposta)-1:\n",
    "            resp_string += str(resposta[i]) + \".\"\n",
    "        elif i == len(resposta)-2:\n",
    "            resp_string += str(resposta[i]) + \" e \"\n",
    "        else:\n",
    "            resp_string += str(resposta[i]) + \", \"\n",
    "    print(f\"São elas: {resp_string}\")\n",
    "    \n",
    "consoantes(input(\"Digite uma palavra para saber quantas consoantes ela tem\"))"
   ]
  },
  {
   "cell_type": "markdown",
   "metadata": {},
   "source": [
    "#### Exercício 6. Faça um Programa que peça as quatro notas de 10 alunos, calcule e armazene num vetor a média de cada aluno, imprima o número de alunos com média maior ou igual a 7.0."
   ]
  },
  {
   "cell_type": "code",
   "execution_count": 2,
   "metadata": {},
   "outputs": [
    {
     "name": "stdout",
     "output_type": "stream",
     "text": [
      "No total, há 4 aluno(s) com média maior ou igual a 7.\n"
     ]
    }
   ],
   "source": [
    "def media(lista):\n",
    "    return sum(lista)/len(lista)\n",
    "\n",
    "medias = []\n",
    "\n",
    "for i in range(10):\n",
    "    aluno = list(map(float, input(f\"Coloque as 4 notas do {i+1}º aluno, separadas por um espaço\").split()))\n",
    "    medias.append(media(aluno))\n",
    "    \n",
    "maior = [i for i in medias if i >= 7]\n",
    "print(f\"No total, há {len(maior)} aluno(s) com média maior ou igual a 7.\")"
   ]
  },
  {
   "cell_type": "markdown",
   "metadata": {},
   "source": [
    "#### Exercício 8. Faça um Programa que peça a idade e a altura de 5 pessoas, armazene cada informação no seu respectivo vetor. Imprima a idade e a altura na ordem inversa a ordem lida."
   ]
  },
  {
   "cell_type": "code",
   "execution_count": 6,
   "metadata": {},
   "outputs": [
    {
     "name": "stdout",
     "output_type": "stream",
     "text": [
      "As idades em ordem contrária a lida são 9, 7, 5, 3 e 1.\n",
      "Já as alturas em ordem contrária a lida são 10, 8, 6, 4 e 2.\n"
     ]
    }
   ],
   "source": [
    "def lista_str(lista):\n",
    "    string = \"\"\n",
    "    for i in range(len(lista)):\n",
    "        if i == len(lista)-1:\n",
    "            string += str(lista[i]) + \".\"\n",
    "        elif i == len(lista)-2:\n",
    "            string += str(lista[i]) + \" e \"\n",
    "        else:\n",
    "            string += str(lista[i]) + \", \"\n",
    "    return string\n",
    "\n",
    "\n",
    "idades = []\n",
    "alturas = []\n",
    "\n",
    "for i in range(5):\n",
    "    idades.append(input(f\"Digite a idade da {i+1}º pessoa: \"))\n",
    "    alturas.append(input(f\"Agora, digite a altura desta pessoa: \"))\n",
    "    \n",
    "idades.reverse()\n",
    "alturas.reverse()\n",
    "\n",
    "print(f\"As idades em ordem contrária a lida são {lista_str(idades)}\")\n",
    "print(f\"Já as alturas em ordem contrária a lida são {lista_str(alturas)}\")\n"
   ]
  },
  {
   "cell_type": "markdown",
   "metadata": {},
   "source": [
    "#### Exercício 9. Faça um Programa que leia um vetor A com 10 números inteiros, calcule e mostre a soma dos quadrados dos elementos do vetor."
   ]
  },
  {
   "cell_type": "code",
   "execution_count": 7,
   "metadata": {},
   "outputs": [
    {
     "name": "stdout",
     "output_type": "stream",
     "text": [
      "A soma dos quadrados dos elementos da lista é 377594\n"
     ]
    }
   ],
   "source": [
    "A = [4, 5, 6, 7, 583, 1, 193, 15, 2, 10]\n",
    "\n",
    "def soma_quadrados(lista):\n",
    "    resposta = 0\n",
    "    for i in lista:\n",
    "        resposta += i**2\n",
    "    return resposta\n",
    "\n",
    "print(f\"A soma dos quadrados dos elementos da lista é {soma_quadrados(A)}\")"
   ]
  },
  {
   "cell_type": "markdown",
   "metadata": {},
   "source": [
    "##### Exercício 19. Uma empresa de pesquisas precisa tabular os resultados da seguinte enquete feita a um grande quantidade de organizações: \"Qual o melhor Sistema Operacional para uso em servidores?\" \n",
    "As possíveis respostas são:\n",
    "\n",
    "1- Windows Server\n",
    "\n",
    "2- Unix\n",
    "\n",
    "3- Linux\n",
    "\n",
    "4- Netware\n",
    "\n",
    "5- Mac OS\n",
    "\n",
    "6- Outro\n",
    "\n",
    "#### Você foi contratado para desenvolver um programa que leia o resultado da enquete e informe ao final o resultado da mesma. O programa deverá ler os valores até ser informado o valor 0, que encerra a entrada dos dados. Não deverão ser aceitos valores além dos válidos para o programa (0 a 6). Os valores referentes a cada uma das opções devem ser armazenados numa lista. Após os dados terem sido completamente informados, o programa deverá calcular a percentual de cada um dos concorrentes e informar o vencedor da enquete. O formato da saída foi dado pela empresa, e é o seguinte:\n",
    "| Sistema Operacional | Votos | %   |\n",
    "|-------------------- |-------|---- |\n",
    "| Windows Server      | 1500  | 17% |\n",
    "| Unix                | 3500  | 40% |\n",
    "| Linux               | 3000  | 34% |\n",
    "| Netware             | 500   | 5%  |\n",
    "| Mac OS              | 150   | 2%  |\n",
    "| Outro               | 150   | 2%  |\n",
    "| Total               | 8800   \n",
    "\n",
    " O Sistema Operacional mais votado foi o Unix, com 3500 votos, correspondendo a 40% dos votos."
   ]
  },
  {
   "cell_type": "code",
   "execution_count": 94,
   "metadata": {},
   "outputs": [
    {
     "name": "stdout",
     "output_type": "stream",
     "text": [
      "Sistema Operacional     Votos     %\n",
      "-------------------     ------    ---\n",
      "Windows Server               4    16%\n",
      "Unix                         4    16%\n",
      "Linux                        6    25%\n",
      "Netware                      5    20%\n",
      "Mac OS                       5    20%\n",
      "Outro                        0     0%\n",
      "-------------------     ------\n",
      "Total                       24\n",
      "O Sistema Operacional mais votado foi o Linux, com 6 votos, correspondendo a 25% dos votos.\n"
     ]
    }
   ],
   "source": [
    "class Votacao:\n",
    "    def __init__(self, nome: str, itens: list):\n",
    "        self.nome = nome\n",
    "        self.itens = itens\n",
    "        self.votos = {i: 0 for i in itens}\n",
    "        self.total = 0\n",
    "    \n",
    "    def votar(self):\n",
    "        numero = int(input(f\"É hora de votar! Escolha um número para votar de 1 a {len(self.itens)}, digite 0 para parar\"))\n",
    "        if numero > len(self.itens):\n",
    "            print(\"Número Incorreto\")\n",
    "            self.votar()\n",
    "        if numero == 0:\n",
    "            print(self.resultado())\n",
    "        else:\n",
    "            self.votos[self.itens[numero-1]] += 1\n",
    "            self.total += 1\n",
    "            self.votar()\n",
    "        \n",
    "    def resultado(self):\n",
    "        if self.total == 0:\n",
    "            self.total = 0.1\n",
    "        espaco = \" \"\n",
    "        line = \"-\"\n",
    "        string = f\"{self.nome}     Votos     %\\n{line*len(self.nome)}     ------    ---\\n\"\n",
    "        maior = None\n",
    "        maior_num = 0\n",
    "        for i in self.itens:\n",
    "            if self.votos[i] >= maior_num:\n",
    "                maior = i\n",
    "                maior_num = self.votos[i]\n",
    "            porcentagem = int(100*(self.votos[i]/self.total))\n",
    "            espaco_item = len(self.nome)+5-len(i)\n",
    "            espaco_votos = 6-len(str(self.votos[i]))\n",
    "            espaco_porcentagem = 6-len(str(porcentagem))\n",
    "            string += f\"{i}{espaco*espaco_item}{espaco*espaco_votos}{self.votos[i]}{espaco*espaco_porcentagem}{porcentagem}%\\n\"\n",
    "        string += f\"{line*len(self.nome)}     ------\\n\"\n",
    "        espaco_total = 25-len(str(int(self.total)))\n",
    "        string += f\"Total{espaco*espaco_total}{int(self.total)}\\n\"\n",
    "        porcentagem_maior = int(100*(self.votos[maior]/self.total))\n",
    "        string += f\"O Sistema Operacional mais votado foi o {maior}, com {self.votos[maior]} votos, correspondendo a {porcentagem_maior}% dos votos.\"\n",
    "        return string\n",
    "    \n",
    "\n",
    "votacao = Votacao(\"Sistema Operacional\", [\"Windows Server\", \"Unix\", \"Linux\", \"Netware\", \"Mac OS\", \"Outro\"])\n",
    "votacao.votar()"
   ]
  },
  {
   "cell_type": "markdown",
   "metadata": {},
   "source": [
    "##### Exercício 7. Faça um Programa que leia um vetor de 5 números inteiros, mostre a soma, a multiplicação e os números."
   ]
  },
  {
   "cell_type": "code",
   "execution_count": 97,
   "metadata": {},
   "outputs": [
    {
     "name": "stdout",
     "output_type": "stream",
     "text": [
      "A soma do vetor é 16.\n",
      "A multiplicação do vetor é 240.\n",
      "O vetor é 4, 5, 2, 3 e 2.\n"
     ]
    }
   ],
   "source": [
    "class Vetor:\n",
    "    def __init__(self, lista: list):\n",
    "        self.lista = lista\n",
    "        \n",
    "    def soma(self):\n",
    "        return sum(self.lista)\n",
    "    \n",
    "    def multiplicacao(self):\n",
    "        resultado = 1\n",
    "        for i in self.lista:\n",
    "            resultado *= i\n",
    "        return resultado\n",
    "    \n",
    "    def __str__(self):\n",
    "        string = \"\"\n",
    "        for i in range(len(self.lista)):\n",
    "            if i == len(self.lista)-1:\n",
    "                string += str(self.lista[i]) + \".\"\n",
    "            elif i == len(self.lista)-2:\n",
    "                string += str(self.lista[i]) + \" e \"\n",
    "            else:\n",
    "                string += str(self.lista[i]) + \", \"\n",
    "        return string\n",
    "    \n",
    "vetor = Vetor([4, 5, 2, 3, 2])\n",
    "\n",
    "print(f\"A soma do vetor é {vetor.soma()}.\")\n",
    "print(f\"A multiplicação do vetor é {vetor.multiplicacao()}.\")\n",
    "print(f\"O vetor é {vetor}\")"
   ]
  },
  {
   "cell_type": "markdown",
   "metadata": {},
   "source": [
    "#### Exercício 10. Faça um Programa que leia dois vetores com 10 elementos cada. Gere um terceiro vetor de 20 elementos, cujos valores deverão ser compostos pelos elementos intercalados dos dois outros vetores"
   ]
  },
  {
   "cell_type": "code",
   "execution_count": 98,
   "metadata": {},
   "outputs": [
    {
     "name": "stdout",
     "output_type": "stream",
     "text": [
      "[1, 22, 4, 44, 2, 55, 5, 66, 6, 22, 7, 33, 4, 44, 5, 77, 9, 88, 10, 99]\n"
     ]
    }
   ],
   "source": [
    "vetor1 = [1, 4, 2, 5, 6, 7, 4, 5, 9, 10]\n",
    "vetor2 = [22, 44, 55, 66, 22, 33, 44, 77, 88, 99]\n",
    "vetor_resultado = []\n",
    "\n",
    "for i in range(len(vetor1)):\n",
    "    vetor_resultado.append(vetor1[i])\n",
    "    vetor_resultado.append(vetor2[i])\n",
    "    \n",
    "print(vetor_resultado)"
   ]
  }
 ],
 "metadata": {
  "kernelspec": {
   "display_name": "Python 3",
   "language": "python",
   "name": "python3"
  },
  "language_info": {
   "codemirror_mode": {
    "name": "ipython",
    "version": 3
   },
   "file_extension": ".py",
   "mimetype": "text/x-python",
   "name": "python",
   "nbconvert_exporter": "python",
   "pygments_lexer": "ipython3",
   "version": "3.9.6"
  },
  "orig_nbformat": 4
 },
 "nbformat": 4,
 "nbformat_minor": 2
}
