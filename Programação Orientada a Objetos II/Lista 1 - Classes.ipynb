{
 "cells": [
  {
   "cell_type": "markdown",
   "id": "d8453b21-94bb-4a3f-bd92-8b887075df81",
   "metadata": {},
   "source": [
    "# Lista de Exercícios 1 | POO II \n",
    "### Pedro Henrique Gimenez - 23102766\n",
    "---\n",
    "# Exercícios Warm Up"
   ]
  },
  {
   "cell_type": "markdown",
   "id": "193aa3ad-787c-4ed4-9c82-5d6de1efdb49",
   "metadata": {},
   "source": [
    "#### 1) Crie a classe Televisao com os atributos ligada (inicializado com valor False) e canal (inicializado com valor 2)."
   ]
  },
  {
   "cell_type": "code",
   "execution_count": 2,
   "id": "4a3bea3a-5c27-4931-b284-9823c0235801",
   "metadata": {},
   "outputs": [
    {
     "name": "stdout",
     "output_type": "stream",
     "text": [
      "2\n"
     ]
    }
   ],
   "source": [
    "class Televisao:\n",
    "    def __init__(self, ligada=False, canal=2):\n",
    "        self.ligada = ligada\n",
    "        self.canal = canal\n",
    "teve = Televisao()\n",
    "print(teve.canal)"
   ]
  },
  {
   "cell_type": "markdown",
   "id": "ca3c0a97-c39f-48ea-875f-4df48ca6c13c",
   "metadata": {},
   "source": [
    "---\n",
    "#### 2) Adicione os atributos tamanho e marca à classe Televisao. Crie dois objetos Televisao e atribua tamanhos e marcas diferentes. Depois, imprima o valor desses atributos de forma a confirmar independência dos valores de cada instância (objeto)."
   ]
  },
  {
   "cell_type": "code",
   "execution_count": 3,
   "id": "0ce1cc11-1167-4753-a377-42acbee713e0",
   "metadata": {},
   "outputs": [
    {
     "name": "stdout",
     "output_type": "stream",
     "text": [
      "O tamanho da TV1 é 32 e sua marca é Sony\n",
      "Já o tamanho da TV2 é 80 e sua marca é Samsung\n"
     ]
    }
   ],
   "source": [
    "class Televisao:\n",
    "    def __init__(self, ligada=False, canal=2, tamanho=int, marca=str):\n",
    "        self.ligada = ligada\n",
    "        self.canal = canal\n",
    "        self.tamanho = tamanho\n",
    "        self.marca = marca\n",
    "TV1 = Televisao(tamanho=32, marca=\"Sony\")\n",
    "TV2 = Televisao(tamanho=80, marca=\"Samsung\")\n",
    "print(f\"O tamanho da TV1 é {TV1.tamanho} e sua marca é {TV1.marca}\")\n",
    "print(f\"Já o tamanho da TV2 é {TV2.tamanho} e sua marca é {TV2.marca}\")"
   ]
  },
  {
   "cell_type": "markdown",
   "id": "fab65958-01a5-4f62-a83d-007d1cf15538",
   "metadata": {},
   "source": [
    "---\n",
    "#### 3) Adicione dois novos métodos muda_canal_para_cima e muda_canal_para_baixo. Atualmente, a classe Televisao inicializa o canal com 2. Modifique a classe televisao de"
   ]
  },
  {
   "cell_type": "code",
   "execution_count": 4,
   "id": "ddc772bf-0d74-4879-aabc-e137b2698b19",
   "metadata": {},
   "outputs": [
    {
     "name": "stdout",
     "output_type": "stream",
     "text": [
      "Sua TV foi desligada com sucesso\n"
     ]
    }
   ],
   "source": [
    "class Televisao:\n",
    "    def __init__(self, ligada=False, canal=2, tamanho=int, marca=str):\n",
    "        self.ligada = ligada\n",
    "        self.canal = canal\n",
    "        self.tamanho = tamanho\n",
    "        self.marca = marca\n",
    "    def muda_canal_para_cima(self):\n",
    "        self.canal += 1\n",
    "    def muda_canal_para_baixo(self):\n",
    "        self.canal -= 1\n",
    "TV1 = Televisao(tamanho=32, marca=\"Sony\")\n",
    "valor = input(\"Você quer mudar seu canal? Se sim, aperte c para cima, b para baixo ou n para desligar\")\n",
    "while True:\n",
    "    if valor == \"c\":\n",
    "        TV1.muda_canal_para_cima()\n",
    "    elif valor == \"b\":\n",
    "        TV1.muda_canal_para_baixo()\n",
    "    else:\n",
    "        print(\"Sua TV foi desligada com sucesso\")\n",
    "        break\n",
    "    print(f\"Sua TV agora está no canal {TV1.canal}\")\n",
    "    valor = input(\"Você ainda quer mudar? Se sim, aperte c para cima, b para baixo ou n para desligar\")"
   ]
  },
  {
   "cell_type": "markdown",
   "id": "18c2c3a8-2e0d-4671-badd-ed414ec3a936",
   "metadata": {},
   "source": [
    "---\n",
    "#### 4) Adicione mais dois atributos canal_minimo (valor padrão 1) e canal_maximo (valor padrão 99) e modifique a classe Televisao de forma que, se pedirmos para mudar o canal para baixo, além do mínimo, ela vá para o canal máximo. Se mudarmos para cima, além do canal máximo, que volte ao canal mínimo."
   ]
  },
  {
   "cell_type": "code",
   "execution_count": 5,
   "id": "99149adb-0d0f-457c-b8d4-2e1d371d2279",
   "metadata": {},
   "outputs": [
    {
     "name": "stdout",
     "output_type": "stream",
     "text": [
      "Sua TV foi desligada com sucesso\n"
     ]
    }
   ],
   "source": [
    "class Televisao:\n",
    "    def __init__(self, ligada=False, canal=2, tamanho=int, marca=str, canal_minimo=1, canal_maximo=99):\n",
    "        self.ligada = ligada\n",
    "        self.canal = canal\n",
    "        self.tamanho = tamanho\n",
    "        self.marca = marca\n",
    "        self.canal_minimo = canal_minimo\n",
    "        self.canal_maximo = canal_maximo\n",
    "    def muda_canal_para_cima(self):\n",
    "        if self.canal == self.canal_maximo:\n",
    "            self.canal = self.canal_minimo\n",
    "        else:\n",
    "            self.canal += 1\n",
    "    def muda_canal_para_baixo(self):\n",
    "        if self.canal == self.canal_minimo:\n",
    "            self.canal = self.canal_maximo\n",
    "        else:\n",
    "            self.canal -= 1\n",
    "TV1 = Televisao(tamanho=32, marca=\"Sony\", canal=98)\n",
    "valor = input(\"Você quer mudar seu canal? Se sim, aperte c para cima, b para baixo ou n para desligar\")\n",
    "while True:\n",
    "    if valor == \"c\":\n",
    "        TV1.muda_canal_para_cima()\n",
    "    elif valor == \"b\":\n",
    "        TV1.muda_canal_para_baixo()\n",
    "    else:\n",
    "        print(\"Sua TV foi desligada com sucesso\")\n",
    "        break\n",
    "    print(f\"Sua TV agora está no canal {TV1.canal}\")\n",
    "    valor = input(\"Você ainda quer mudar? Se sim, aperte c para cima, b para baixo ou n para desligar\")"
   ]
  },
  {
   "cell_type": "markdown",
   "id": "a135b8ef-6622-414b-ac34-5faf43d43b13",
   "metadata": {},
   "source": [
    "---\n",
    "#### 5) Modifique o construtor da classe Televisao de forma que canal_minimo e canal_maximo seja parametros opcionais valendo respectivamente 2 e 14."
   ]
  },
  {
   "cell_type": "code",
   "execution_count": 6,
   "id": "8e6f0010-dbda-43ed-b92c-3199f5365a13",
   "metadata": {},
   "outputs": [
    {
     "name": "stdout",
     "output_type": "stream",
     "text": [
      "Sua TV foi desligada com sucesso\n"
     ]
    }
   ],
   "source": [
    "class Televisao:\n",
    "    def __init__(self, ligada=False, canal=2, tamanho=int, marca=str, canal_minimo=2, canal_maximo=14):\n",
    "        self.ligada = ligada\n",
    "        self.canal = canal\n",
    "        self.tamanho = tamanho\n",
    "        self.marca = marca\n",
    "        self.canal_minimo = canal_minimo\n",
    "        self.canal_maximo = canal_maximo\n",
    "    def muda_canal_para_cima(self):\n",
    "        if self.canal == self.canal_maximo:\n",
    "            self.canal = self.canal_minimo\n",
    "        else:\n",
    "            self.canal += 1\n",
    "    def muda_canal_para_baixo(self):\n",
    "        if self.canal == self.canal_minimo:\n",
    "            self.canal = self.canal_maximo\n",
    "        else:\n",
    "            self.canal -= 1\n",
    "TV1 = Televisao(tamanho=32, marca=\"Sony\")\n",
    "valor = input(\"Você quer mudar seu canal? Se sim, aperte c para cima, b para baixo ou n para desligar\")\n",
    "while True:\n",
    "    if valor == \"c\":\n",
    "        TV1.muda_canal_para_cima()\n",
    "    elif valor == \"b\":\n",
    "        TV1.muda_canal_para_baixo()\n",
    "    else:\n",
    "        print(\"Sua TV foi desligada com sucesso\")\n",
    "        break\n",
    "    print(f\"Sua TV agora está no canal {TV1.canal}\")\n",
    "    valor = input(\"Você ainda quer mudar? Se sim, aperte c para cima, b para baixo ou n para desligar\")"
   ]
  },
  {
   "cell_type": "markdown",
   "id": "5337f53c-8f0b-4076-80c8-0e2280f7b9a4",
   "metadata": {},
   "source": [
    "---\n",
    "#### 6) Crie duas instancias de Televisao, especificando o valor de canal_minimo e canal_maximo por nome."
   ]
  },
  {
   "cell_type": "code",
   "execution_count": 7,
   "id": "889eb457-eb68-499b-af25-fee22d174fe8",
   "metadata": {},
   "outputs": [
    {
     "name": "stdout",
     "output_type": "stream",
     "text": [
      "6 56\n",
      "25 100\n"
     ]
    }
   ],
   "source": [
    "class Televisao:\n",
    "    def __init__(self, ligada=False, canal=2, tamanho=int, marca=str, canal_minimo=2, canal_maximo=14):\n",
    "        self.ligada = ligada\n",
    "        self.canal = canal\n",
    "        self.tamanho = tamanho\n",
    "        self.marca = marca\n",
    "        self.canal_minimo = canal_minimo\n",
    "        self.canal_maximo = canal_maximo\n",
    "    def muda_canal_para_cima(self):\n",
    "        if self.canal == self.canal_maximo:\n",
    "            self.canal = self.canal_minimo\n",
    "        else:\n",
    "            self.canal += 1\n",
    "    def muda_canal_para_baixo(self):\n",
    "        if self.canal == self.canal_minimo:\n",
    "            self.canal = self.canal_maximo\n",
    "        else:\n",
    "            self.canal -= 1\n",
    "TV1 = Televisao(tamanho=32, marca=\"Sony\")\n",
    "TV2 = Televisao(tamanho=32, marca=\"Brastemp\", canal_minimo=6, canal_maximo=56)\n",
    "TV3 = Televisao(tamanho=42, marca=\"Kodak\", canal_minimo=25, canal_maximo=100)\n",
    "print(TV2.canal_minimo, TV2.canal_maximo)\n",
    "print(TV3.canal_minimo, TV3.canal_maximo)"
   ]
  },
  {
   "cell_type": "markdown",
   "id": "e1f6d039-e25b-4d7b-a5aa-4b64a2a662ba",
   "metadata": {},
   "source": [
    "---\n",
    "#### 7) Crie classes para representar estados e cidades. Cada estado tem um nome, sigla e cidades. Cada cidade tem nome e população. Escreva um programa de testes que crie três estados com algumas cidades em cada um. Exiba a população de cada estado como a soma da população de suas cidades"
   ]
  },
  {
   "cell_type": "code",
   "execution_count": 8,
   "id": "c462983c-d806-41d7-a176-83bbddc15252",
   "metadata": {},
   "outputs": [
    {
     "name": "stdout",
     "output_type": "stream",
     "text": [
      "O estado de Santa Catarina possui um total de 672926 habitantes\n",
      "O estado de People State possui um total de 3 habitantes\n",
      "O estado de Só delicias possui um total de 125005 habitantes\n"
     ]
    }
   ],
   "source": [
    "class Estado:\n",
    "    def __init__(self, nome=str, sigla=str, cidades=[]):\n",
    "        self.nome = nome\n",
    "        self.sigla = sigla\n",
    "        self.cidades = cidades\n",
    "\n",
    "    def calculo_populacao(self):\n",
    "        populacao = 0\n",
    "        for i in self.cidades:\n",
    "            populacao += i.populacao\n",
    "        return populacao\n",
    "\n",
    "class Cidade:\n",
    "    def __init__(self, nome=str, populacao=int):\n",
    "        self.nome = nome\n",
    "        self.populacao = populacao\n",
    "\n",
    "# definindo cidades\n",
    "floripa = Cidade(\"Florianopolis\", 508826)\n",
    "balneario = Cidade(\"Balneario Camboriu \",  139000)\n",
    "penha = Cidade(\"Penha\", 25100)\n",
    "pedrocity = Cidade(\"Pedropoli\", 1)\n",
    "tommycity = Cidade(\"TomChato\", 1)\n",
    "TaylorSwift = Cidade(\"Taylor Swift\", 1)\n",
    "batata = Cidade(\"Batata City\", 25000)\n",
    "coxinha = Cidade(\"Cidade de Coxinha\", 5)\n",
    "tomate = Cidade(\"TomatoTown\", 100000)\n",
    "\n",
    "#definindo estados\n",
    "santa_catarina = Estado(\"Santa Catarina\", \"SC\", [floripa, balneario, penha])\n",
    "people_state = Estado(\"People State\", \"PS\", [pedrocity, tommycity, TaylorSwift])\n",
    "estado_gostoso = Estado(\"Só delicias\", \"SD\", [batata, coxinha, tomate])\n",
    "\n",
    "for estado in [santa_catarina, people_state, estado_gostoso]:\n",
    "    print(f\"O estado de {estado.nome} possui um total de {estado.calculo_populacao()} habitantes\") \n"
   ]
  },
  {
   "cell_type": "markdown",
   "id": "0e43b5dd-a333-48e1-8a73-ca0477a171b1",
   "metadata": {},
   "source": [
    "---\n",
    "#### 8) Escreva uma classe Coordenada com atributos x e y, e métodos para mostrar as coordenadas, calcular a distancia para outra coordenada, comparar coordenadas, mostrar no formato coordenada polar."
   ]
  },
  {
   "cell_type": "code",
   "execution_count": 9,
   "id": "afdf88bc-13fb-4d76-8353-aac17aff6c87",
   "metadata": {},
   "outputs": [
    {
     "name": "stdout",
     "output_type": "stream",
     "text": [
      "A coordenada está em x 4 e y 6\n",
      "A distancia entre a coordenada 1 e a 2 é de 11.40175425099138 unidades\n",
      "As coordenadas são diferentes\n",
      "A coordenada polar da Cor. 2 é (5.0990195135927845, -78.69006752597979)\n"
     ]
    }
   ],
   "source": [
    "import math\n",
    "\n",
    "class Coordenada:\n",
    "    def __init__(self, x, y):\n",
    "        self.x = x\n",
    "        self.y = y\n",
    "\n",
    "    def mostrar(self):\n",
    "        print(f\"A coordenada está em x {self.x} e y {self.y}\")\n",
    "\n",
    "    def distancia(self, cord2):\n",
    "        return ((self.x - cord2.x)**2 + (self.y - cord2.y)**2)**0.5\n",
    "\n",
    "    def comparar(self, cord2):\n",
    "        if self.x == cord2.x and self.y == cord2.y:\n",
    "            return True\n",
    "        else:\n",
    "            return False\n",
    "\n",
    "    def coordenada_polar(self):\n",
    "        distancia = (self.x**2 + self.y**2)**0.5\n",
    "        angulo_rad = math.atan2(self.y, self.x)\n",
    "        angulo_graus = math.degrees(angulo_rad)\n",
    "        return (distancia, angulo_graus)\n",
    "\n",
    "#definindo coordenadas\n",
    "coordenada1 = Coordenada(4, 6)\n",
    "coordenada2 = Coordenada(1, -5)\n",
    "\n",
    "#testando metodos\n",
    "coordenada1.mostrar() #mostrar\n",
    "print(f\"A distancia entre a coordenada 1 e a 2 é de {coordenada1.distancia(coordenada2)} unidades\") #distancia\n",
    "if coordenada1.comparar(coordenada2): #comparar\n",
    "    print(\"As duas coordenadas são iguais\")\n",
    "else:\n",
    "    print(\"As coordenadas são diferentes\") \n",
    "print(f\"A coordenada polar da Cor. 2 é {coordenada2.coordenada_polar()}\") #coord. polar"
   ]
  },
  {
   "cell_type": "markdown",
   "id": "0749a9b7-1147-4fb6-922e-821111e0cc96",
   "metadata": {},
   "source": [
    "---\n",
    "#### 9) Escreva classes para as seguintes formas: quadrado, retângulo e círculo"
   ]
  },
  {
   "cell_type": "code",
   "execution_count": 10,
   "id": "8e3ff0b5-2025-4a39-a7ca-6a2eef4bfe33",
   "metadata": {},
   "outputs": [
    {
     "name": "stdout",
     "output_type": "stream",
     "text": [
      "50.26548245743669\n",
      "18\n"
     ]
    }
   ],
   "source": [
    "# sei que o exercicio pede para criar mais de uma classe, uma para cada tipo. Mas quis aplicar o conceito de POO de reduzir ao máximo o numero de classes se elas conseguem fazer a mesma coisa.\n",
    "\n",
    "import math\n",
    "class FormaGeometrica:\n",
    "    def __init__(self, tipo, lado=0, base=0, altura=0, raio=0):\n",
    "        self.tipo = tipo\n",
    "        self.lado = lado\n",
    "        self.base = base\n",
    "        self.altura = altura\n",
    "        self.raio = raio\n",
    "    \n",
    "    def area(self):\n",
    "        if self.tipo == \"quadrado\":\n",
    "            return self.lado**2\n",
    "        elif self.tipo == \"retangulo\":\n",
    "            return self.base*self.altura\n",
    "        else:\n",
    "            return math.pi*(self.raio**2)\n",
    "        \n",
    "circulo1 = FormaGeometrica(\"circulo\", raio=4)\n",
    "retangulo1 = FormaGeometrica(\"retangulo\", base=2, altura=9)\n",
    "print(circulo1.area())\n",
    "print(retangulo1.area())\n",
    "        "
   ]
  },
  {
   "cell_type": "markdown",
   "id": "308f7942-dbd3-4dd7-bb3b-042e99bf2fe9",
   "metadata": {},
   "source": [
    "---\n",
    "#### 10) Escreva uma classe Fracao que armazena dois inteiros, numerador e denominador"
   ]
  },
  {
   "cell_type": "code",
   "execution_count": 11,
   "id": "6e33b8a6-d307-4263-805d-032d20082107",
   "metadata": {},
   "outputs": [],
   "source": [
    " class Fracao:\n",
    "     def __init__(self, numerador, denominador):\n",
    "         self.numerador = numerador\n",
    "         self.denominador = denominador"
   ]
  },
  {
   "cell_type": "markdown",
   "id": "9e6ee2c5-c0c6-41b0-8ebb-816b08aa538e",
   "metadata": {},
   "source": [
    "#### a) Implemente metodos para somas, subtração, multiplicação e divisão de duas frações"
   ]
  },
  {
   "cell_type": "code",
   "execution_count": 12,
   "id": "a93bedf7-1ce3-46d4-a568-55e0f28345ce",
   "metadata": {},
   "outputs": [
    {
     "name": "stdout",
     "output_type": "stream",
     "text": [
      "A soma entre 2/4 e 5/6 é 16/12\n",
      "A subtracao entre 2/4 e 5/6 é -4/12\n",
      "A multiplicacao entre 2/4 e 5/6 é 10/24\n",
      "A divisao entre 2/4 e 5/6 é 12/20\n"
     ]
    }
   ],
   "source": [
    "class Fracao:\n",
    "    def __init__(self, numerador=int, denominador=int):\n",
    "        self.numerador = numerador\n",
    "        self.denominador = denominador\n",
    "\n",
    "    def soma(self, fracao2):\n",
    "        maior = max([self.denominador, fracao2.denominador])\n",
    "        while True:\n",
    "            if maior % self.denominador == 0 and maior % fracao2.denominador == 0:\n",
    "                break\n",
    "            else:\n",
    "                maior += 1\n",
    "        num_master = (maior//self.denominador)*self.numerador + (maior//fracao2.denominador)*fracao2.numerador\n",
    "        return f\"A soma entre {self.numerador}/{self.denominador} e {fracao2.numerador}/{fracao2.denominador} é {num_master}/{maior}\"\n",
    "\n",
    "    def subtracao(self, fracao2):\n",
    "        maior = max([self.denominador, fracao2.denominador])\n",
    "        while True:\n",
    "            if maior % self.denominador == 0 and maior % fracao2.denominador == 0:\n",
    "                break\n",
    "            else:\n",
    "                maior += 1\n",
    "        num_master = (maior//self.denominador)*self.numerador - (maior//fracao2.denominador)*fracao2.numerador\n",
    "        return f\"A subtracao entre {self.numerador}/{self.denominador} e {fracao2.numerador}/{fracao2.denominador} é {num_master}/{maior}\"\n",
    "\n",
    "    def multiplicacao(self, fracao2):\n",
    "        return f\"A multiplicacao entre {self.numerador}/{self.denominador} e {fracao2.numerador}/{fracao2.denominador} é {self.numerador*fracao2.numerador}/{self.denominador*fracao2.denominador}\"\n",
    "\n",
    "    def divisao(self, fracao2):\n",
    "        return f\"A divisao entre {self.numerador}/{self.denominador} e {fracao2.numerador}/{fracao2.denominador} é {self.numerador*fracao2.denominador}/{self.denominador*fracao2.numerador}\"\n",
    "\n",
    "#nomeando fracoes\n",
    "fracao_1 = Fracao(2, 4)\n",
    "fracao_2 = Fracao(5, 6)\n",
    "\n",
    "\n",
    "#testando metodos\n",
    "print(fracao_1.soma(fracao_2)) #soma\n",
    "print(fracao_1.subtracao(fracao_2)) #subtracao\n",
    "print(fracao_1.multiplicacao(fracao_2)) #multiplicacao\n",
    "print(fracao_1.divisao(fracao_2)) #divisao"
   ]
  },
  {
   "cell_type": "markdown",
   "id": "9520c0be-c8f0-4e2e-b494-e62bb8dca189",
   "metadata": {},
   "source": [
    "#### b) Implemente o método que imprime uma fração no formato numerador / denominador"
   ]
  },
  {
   "cell_type": "code",
   "execution_count": 13,
   "id": "f1ab292f-4577-472e-a227-a57b4bf636d7",
   "metadata": {},
   "outputs": [
    {
     "name": "stdout",
     "output_type": "stream",
     "text": [
      "2/4\n",
      "5/6\n"
     ]
    }
   ],
   "source": [
    "class Fracao:\n",
    "    def __init__(self, numerador=int, denominador=int):\n",
    "        self.numerador = numerador\n",
    "        self.denominador = denominador\n",
    "\n",
    "    def formatar(self):\n",
    "        return f\"{self.numerador}/{self.denominador}\"\n",
    "\n",
    "#nomeando fracoes\n",
    "fracao_1 = Fracao(2, 4)\n",
    "fracao_2 = Fracao(5, 6)\n",
    "\n",
    "#testando metodo\n",
    "print(fracao_1.formatar())\n",
    "print(fracao_2.formatar())"
   ]
  },
  {
   "cell_type": "markdown",
   "id": "e1c63308-a743-46c5-8d67-027963eeb220",
   "metadata": {},
   "source": [
    "#### c) Implemente um método que inverte a fração"
   ]
  },
  {
   "cell_type": "code",
   "execution_count": 14,
   "id": "e20827ad-b88c-41fc-a2ca-484f0d453898",
   "metadata": {},
   "outputs": [
    {
     "name": "stdout",
     "output_type": "stream",
     "text": [
      "4/2\n"
     ]
    }
   ],
   "source": [
    "class Fracao:\n",
    "    def __init__(self, numerador=int, denominador=int):\n",
    "        self.numerador = numerador\n",
    "        self.denominador = denominador\n",
    "\n",
    "    def inverter(self):\n",
    "        return f\"{self.denominador}/{self.numerador}\"\n",
    "\n",
    "#nomeando fracoes\n",
    "fracao_1 = Fracao(2, 4)\n",
    "fracao_2 = Fracao(5, 6)\n",
    "\n",
    "#testando metodo\n",
    "print(fracao_1.inverter())"
   ]
  },
  {
   "cell_type": "markdown",
   "id": "cd4f8396-1529-424e-8c93-e7a9c45d263d",
   "metadata": {},
   "source": [
    "#### d) Implemente um método que retorna a fração em valor real"
   ]
  },
  {
   "cell_type": "code",
   "execution_count": 15,
   "id": "70d7b739-0791-46c9-8512-12abe37a4ad4",
   "metadata": {},
   "outputs": [
    {
     "name": "stdout",
     "output_type": "stream",
     "text": [
      "0.5\n",
      "0.8333333333333334\n"
     ]
    }
   ],
   "source": [
    "class Fracao:\n",
    "    def __init__(self, numerador=int, denominador=int):\n",
    "        self.numerador = numerador\n",
    "        self.denominador = denominador\n",
    "\n",
    "    def valor_real(self):\n",
    "        return self.numerador/self.denominador\n",
    "\n",
    "#nomeando fracoes\n",
    "fracao_1 = Fracao(2, 4)\n",
    "fracao_2 = Fracao(5, 6)\n",
    "\n",
    "#testando metodo\n",
    "print(fracao_1.valor_real())\n",
    "print(fracao_2.valor_real())"
   ]
  },
  {
   "cell_type": "markdown",
   "id": "7ee5cf0e-dd52-4a75-b90f-f59a5b45ea19",
   "metadata": {},
   "source": [
    "#### e) Implemente um método que cria uma fração (numerador/denominador) a partir de um número real"
   ]
  },
  {
   "cell_type": "code",
   "execution_count": 16,
   "id": "e3ebda89-eae9-42ed-840f-8dabb98cc53e",
   "metadata": {},
   "outputs": [
    {
     "name": "stdout",
     "output_type": "stream",
     "text": [
      "13455555/1000000\n"
     ]
    }
   ],
   "source": [
    "class Fracao:\n",
    "    def __init__(self, numerador=int, denominador=int):\n",
    "        self.numerador = numerador\n",
    "        self.denominador = denominador\n",
    "\n",
    "    def fracao_real(self, numero):\n",
    "        separacao = str(numero).split('.')\n",
    "        inteiro = int(separacao[0])\n",
    "        decimal = int(separacao[1])\n",
    "        dez_exp = 10 ** len(separacao[1])\n",
    "        return f\"{inteiro*dez_exp+decimal}/{dez_exp}\"\n",
    "\n",
    "#nomeando fracoes\n",
    "fracao_1 = Fracao(2, 4)\n",
    "fracao_2 = Fracao(5, 6)\n",
    "\n",
    "#testando metodo\n",
    "print(fracao_1.fracao_real(13.455555))"
   ]
  },
  {
   "cell_type": "markdown",
   "id": "b9d8868a-afac-46fd-a2ac-95dec08933e8",
   "metadata": {},
   "source": [
    "# Exercícios Principais"
   ]
  },
  {
   "cell_type": "markdown",
   "id": "31e67ccb",
   "metadata": {},
   "source": [
    "#### Exercício 4: Implemente uma classe que, implementa algumas séries matemáticas importantes: Fibonacci, Fatorial, Fibonarial, Primo. Use recursão para Fibonacci e Fatorial."
   ]
  },
  {
   "cell_type": "code",
   "execution_count": 73,
   "id": "109c9415",
   "metadata": {},
   "outputs": [
    {
     "name": "stdout",
     "output_type": "stream",
     "text": [
      "Os primeiros 25 números de fibonacci são:\n",
      "[0, 1, 1, 2, 3, 5, 8, 13, 21, 34, 55, 89, 144, 233, 377, 610, 987, 1597, 2584, 4181, 6765, 10946, 17711, 28657, 46368]\n"
     ]
    }
   ],
   "source": [
    "class Matematicamente:\n",
    "    def fibonacci(self, n):\n",
    "        if n <= 0:\n",
    "            return 0\n",
    "        elif n == 1:\n",
    "            return 1\n",
    "        else:\n",
    "            return self.fibonacci(n-1) + self.fibonacci(n-2)\n",
    "        \n",
    "    def fatorial(self, n):\n",
    "        if n == 0:\n",
    "            return 1\n",
    "        else:\n",
    "           return n * self.fatorial(n-1)\n",
    "\n",
    "    def fibonarial(self, n):\n",
    "        return self.fatorial(self.fibonacci(n))\n",
    "\n",
    "    def primo(self, n):\n",
    "        if n <= 1:\n",
    "            return False\n",
    "        elif n == 2 or n==3:\n",
    "            return True\n",
    "        else:\n",
    "            for i in range(3, int(n**0.5)+1, 2):\n",
    "                if n%i == 0:\n",
    "                    return False\n",
    "            return True\n",
    "\n",
    "classe = Matematicamente()\n",
    "while True:\n",
    "    escolha = input(\"Escolha uma série matemática (fibonacci, fatorial, fibonarial ou primo):\")\n",
    "    n = int(input(\"Legal, agora escolha um número:\"))\n",
    "    if escolha == \"fibonacci\":\n",
    "        print(f\"Os primeiros {n} números de fibonacci são:\")\n",
    "        print([classe.fibonacci(x) for x in range(n)])\n",
    "    elif escolha == \"fatorial\":\n",
    "        print(f\"O fatorial de {n} é {classe.fatorial(n)}\")\n",
    "    elif escolha == \"fibonarial\":\n",
    "        print(f\"O fibonarial de {n} é {classe.fibonarial(n)}\")\n",
    "    else:\n",
    "        if classe.primo(n):\n",
    "            print(f\"O número {n} é primo!!\")\n",
    "        else:\n",
    "            print(f\"Que pena! {n} não é primo...\")\n",
    "    continua = input(\"Deseja continuar? Aperte S para sim ou N para não\")\n",
    "    if continua == \"N\" or continua == \"n\":\n",
    "        break\n",
    "            "
   ]
  },
  {
   "cell_type": "markdown",
   "id": "3385c307-c829-48cd-bf9c-6d80edf952b1",
   "metadata": {},
   "source": [
    "#### Exercício 8: Reimplemente o jogo da forca completamente orientado a objetos"
   ]
  },
  {
   "cell_type": "code",
   "execution_count": null,
   "id": "39c446a9-d1ac-4704-9163-ccdadee221cc",
   "metadata": {},
   "outputs": [
    {
     "name": "stdout",
     "output_type": "stream",
     "text": [
      "Vamos jogar? Comece digitando a palavra a ser adivinhada: macaco prego\n"
     ]
    },
    {
     "name": "stdout",
     "output_type": "stream",
     "text": [
      "* VIDAS RESTANTES = 3\n",
      "* LETRAS JOGADAS:  \n",
      "* JOGO: _ _ _ _ _ _   _ _ _ _ _ \n"
     ]
    },
    {
     "name": "stdout",
     "output_type": "stream",
     "text": [
      "Tente uma letra: a\n"
     ]
    },
    {
     "name": "stdout",
     "output_type": "stream",
     "text": [
      "Boa! Próximo Round\n",
      "* VIDAS RESTANTES = 3\n",
      "* LETRAS JOGADAS: a  \n",
      "* JOGO: _ a _ a _ _   _ _ _ _ _ \n"
     ]
    },
    {
     "name": "stdout",
     "output_type": "stream",
     "text": [
      "Tente uma letra: e\n"
     ]
    },
    {
     "name": "stdout",
     "output_type": "stream",
     "text": [
      "Boa! Próximo Round\n",
      "* VIDAS RESTANTES = 3\n",
      "* LETRAS JOGADAS: a e  \n",
      "* JOGO: _ a _ a _ _   _ _ e _ _ \n"
     ]
    },
    {
     "name": "stdout",
     "output_type": "stream",
     "text": [
      "Tente uma letra: i\n"
     ]
    },
    {
     "name": "stdout",
     "output_type": "stream",
     "text": [
      "ERROU! Perdeu uma vida\n",
      "* VIDAS RESTANTES = 2\n",
      "* LETRAS JOGADAS: a e i  \n",
      "* JOGO: _ a _ a _ _   _ _ e _ _ \n"
     ]
    },
    {
     "name": "stdout",
     "output_type": "stream",
     "text": [
      "Tente uma letra: o\n"
     ]
    },
    {
     "name": "stdout",
     "output_type": "stream",
     "text": [
      "Boa! Próximo Round\n",
      "* VIDAS RESTANTES = 2\n",
      "* LETRAS JOGADAS: a e i o  \n",
      "* JOGO: _ a _ a _ o   _ _ e _ o \n"
     ]
    },
    {
     "name": "stdout",
     "output_type": "stream",
     "text": [
      "Tente uma letra: u\n"
     ]
    },
    {
     "name": "stdout",
     "output_type": "stream",
     "text": [
      "ERROU! Perdeu uma vida\n",
      "* VIDAS RESTANTES = 1\n",
      "* LETRAS JOGADAS: a e i o u  \n",
      "* JOGO: _ a _ a _ o   _ _ e _ o \n"
     ]
    },
    {
     "name": "stdout",
     "output_type": "stream",
     "text": [
      "Tente uma letra: d\n"
     ]
    },
    {
     "name": "stdout",
     "output_type": "stream",
     "text": [
      "ERROU! Perdeu uma vida\n",
      "* VIDAS RESTANTES = 0\n",
      "* LETRAS JOGADAS: a e i o u d  \n",
      "* JOGO: _ a _ a _ o   _ _ e _ o \n"
     ]
    },
    {
     "name": "stdout",
     "output_type": "stream",
     "text": [
      "Tente uma letra: p\n"
     ]
    },
    {
     "name": "stdout",
     "output_type": "stream",
     "text": [
      "Boa! Próximo Round\n",
      "* VIDAS RESTANTES = 0\n",
      "* LETRAS JOGADAS: a e i o u d p  \n",
      "* JOGO: _ a _ a _ o   p _ e _ o \n"
     ]
    },
    {
     "name": "stdout",
     "output_type": "stream",
     "text": [
      "Tente uma letra: t\n"
     ]
    },
    {
     "name": "stdout",
     "output_type": "stream",
     "text": [
      "VISH! FIM DO JOGO, PERDEU TUDO\n"
     ]
    }
   ],
   "source": [
    "class JogoDaForca:\n",
    "    def __init__(self, palavra=str):\n",
    "        self.palavra = palavra\n",
    "        self.vidas = 3\n",
    "        self.letras = \"\"\n",
    "        self.fim = False\n",
    "        self.placar = []\n",
    "        for i in self.palavra:\n",
    "            if i == \" \":\n",
    "                self.placar.append(\" \")\n",
    "            else:\n",
    "                self.placar.append(\"_\")\n",
    "\n",
    "    def tentativa(self, letra):\n",
    "        self.letras += f\"{letra} \"\n",
    "        acerto = 0\n",
    "        for i in range(len(self.palavra)):\n",
    "            if self.palavra[i] == letra:\n",
    "                self.placar[i] = letra\n",
    "                acerto += 1\n",
    "        if acerto == 0:\n",
    "            self.vidas -= 1\n",
    "            if self.vidas < 0:\n",
    "                print(\"VISH! FIM DO JOGO, PERDEU TUDO\")\n",
    "                self.fim = True\n",
    "            else:\n",
    "                print(\"ERROU! Perdeu uma vida\")\n",
    "        elif self.placar == list(self.palavra):\n",
    "            print(f\"AEEEE! VOCE GANHOU!! A palavra era {self.palavra}\")\n",
    "            self.fim = True\n",
    "        else:\n",
    "            print(\"Boa! Próximo Round\")\n",
    "\n",
    "    def aparencia(self):\n",
    "        placarbonito = \"\"\n",
    "        for i in self.placar:\n",
    "            placarbonito += i\n",
    "            placarbonito += \" \"\n",
    "        return f\"* VIDAS RESTANTES = {self.vidas}\\n* LETRAS JOGADAS: {self.letras} \\n* JOGO: {placarbonito}\"\n",
    "\n",
    "vezes = 0\n",
    "\n",
    "while True:\n",
    "    if vezes > 0:\n",
    "        continua = input(\"Você deseja continuar com outro jogo, ou parar? Digite S para CONTINUAR ou N para PARAR:\")\n",
    "        if continua != \"S\":\n",
    "            break\n",
    "    vezes += 1\n",
    "    palavra = input(\"Vamos jogar? Comece digitando a palavra a ser adivinhada:\")\n",
    "    jogo = JogoDaForca(palavra)\n",
    "    while True:\n",
    "        print(jogo.aparencia())\n",
    "        letra = input(\"Tente uma letra:\")\n",
    "        while True:\n",
    "            if letra in jogo.letras:\n",
    "                letra = input(\"Essa já foi, tente outra:\")\n",
    "            else:\n",
    "                break\n",
    "        jogo.tentativa(letra)\n",
    "        if jogo.fim:\n",
    "            break"
   ]
  },
  {
   "cell_type": "markdown",
   "id": "9cc2c9f5-1398-4ba4-a6bf-d74d303689d1",
   "metadata": {},
   "source": [
    "#### Exercício 10: Crie um sistema que gerencia o cadastro de alunos e professores em turmas. Os usuários serão os membros da secretaria. Eles devem conseguir visualizar os alunos matriculados em cada turma, com seus dados, suas notas e presenças. Além disso, os secretários precisam ter acesso a dados cadastrais dos professores associados à disciplina."
   ]
  },
  {
   "cell_type": "code",
   "execution_count": 57,
   "id": "085b5d15",
   "metadata": {},
   "outputs": [
    {
     "name": "stdout",
     "output_type": "stream",
     "text": [
      "alunos de discreta:\n",
      "['Tom Hunt', 'Jose Amado', 'Pedro Gimenez', 'Larissa Manoella']\n",
      "professores de poo:\n",
      "['Maicon Zatelli', 'Thais Idalino', 'Jonata Tyska']\n",
      "turmas que a thais leciona:\n",
      "['Programacao Orientada a Objetos I', 'Matematica Discreta']\n",
      "jonata leciona a pedro?\n",
      "True\n",
      "media de notas do pedro (100, 80 e 0):\n",
      "60.0\n",
      "media de presenca do pedro (27, 30 e 0):\n",
      "19.0\n",
      "turmas da larissa:\n",
      "['Sistemas Digitais', 'Matematica Discreta']\n"
     ]
    }
   ],
   "source": [
    "class Alunos:\n",
    "    \n",
    "    def __init__(self, nome=str):\n",
    "        self.nome = nome\n",
    "        self.notas = {}\n",
    "        self.turmas = {}\n",
    "        self.presencas = {}\n",
    "        \n",
    "    def cadastro_turma(self, turma):\n",
    "        self.turmas[turma] = True\n",
    "        self.notas[turma] = 0\n",
    "        self.presencas[turma] = 0\n",
    "        turma.alunos.append(self)\n",
    "        \n",
    "    def add_nota(self, turma, nota):\n",
    "        self.notas[turma] = nota\n",
    "        \n",
    "    def add_presenca(self, turma, presenca):\n",
    "        self.presencas[turma] = presenca\n",
    "        \n",
    "    def ver_turmas(self):\n",
    "        return [i.nome for i in self.turmas]\n",
    "        \n",
    "    def media_notas(self):\n",
    "        return sum(self.notas.values())/len(self.notas)\n",
    "    \n",
    "    def media_presenca(self):\n",
    "        return sum(self.presencas.values())/len(self.presencas)\n",
    "    \n",
    "class Professores:\n",
    "    def __init__(self, nome=str):\n",
    "        self.nome = nome\n",
    "        self.turmas = {}\n",
    "        \n",
    "    def cadastro_turma(self, turma):\n",
    "        self.turmas[turma] = True\n",
    "        turma.professor.append(self)\n",
    "        \n",
    "    def turmas_lecionadas(self):\n",
    "        return [i.nome for i in self.turmas]\n",
    "    \n",
    "    def leciona(self, aluno):\n",
    "        for turma in self.turmas:\n",
    "            if aluno in turma.alunos:\n",
    "                return True\n",
    "        return False\n",
    "    \n",
    "class Turma:\n",
    "    def __init__(self, nome=str, alunos = [], professor=[], primeira=True):\n",
    "        self.nome = nome\n",
    "        self.alunos = alunos\n",
    "        self.professor = professor\n",
    "        self.primeira = primeira\n",
    "        if self.primeira:\n",
    "            for i in self.professor:\n",
    "                i.turmas[self] = True\n",
    "            for i in self.alunos:\n",
    "                i.turmas[self] = True\n",
    "                i.notas[self] = 0\n",
    "                i.presencas[self] = 0\n",
    "            self.primeira = False\n",
    "        \n",
    "    def ver_alunos(self):\n",
    "        return [i.nome for i in self.alunos]\n",
    "    \n",
    "    def ver_professores(self):\n",
    "        return [i.nome for i in self.professor]\n",
    "    \n",
    "    def cadastro_alunos(self, lista):\n",
    "        for i in lista:\n",
    "            i.turmas[self] = True\n",
    "            i.notas[self] = 0\n",
    "            i.presencas[self] = 0\n",
    "            self.alunos.append(i)\n",
    "    \n",
    "    \n",
    "# cadastro de alunos\n",
    "pedro = Alunos(\"Pedro Gimenez\")\n",
    "tom = Alunos(\"Tom Hunt\")\n",
    "jose = Alunos(\"Jose Amado\")\n",
    "larissa = Alunos(\"Larissa Manoella\")\n",
    "\n",
    "# cadastro de professores\n",
    "jonata = Professores(\"Jonata Tyska\")\n",
    "guntzel = Professores(\"Jose Guntzel\")\n",
    "thais = Professores(\"Thais Idalino\")\n",
    "maicon = Professores(\"Maicon Zatelli\")\n",
    "\n",
    "# cadastro de turmas\n",
    "poo = Turma(\"Programacao Orientada a Objetos I\", [pedro, jose], [maicon, thais])\n",
    "mat_discreta = Turma(\"Matematica Discreta\", [], [thais])\n",
    "sistemas = Turma(\"Sistemas Digitais\", [larissa, pedro], [guntzel])\n",
    "\n",
    "# teste de metodos\n",
    "mat_discreta.cadastro_alunos([tom, jose, pedro, larissa]) # add alunos na disciplina de discreta\n",
    "print(\"alunos de discreta:\")\n",
    "print(mat_discreta.ver_alunos()) # vejo se a nova lista esta atualizada\n",
    "jonata.cadastro_turma(poo) # cadastro o professor jonata para lecionar poo\n",
    "print(\"professores de poo:\")\n",
    "print(poo.ver_professores())  # vejo se ele esta como professor\n",
    "print(\"turmas que a thais leciona:\")\n",
    "print(thais.turmas_lecionadas()) # vejo quais as turmas que a thais leciona\n",
    "print(\"jonata leciona a pedro?\")\n",
    "print(jonata.leciona(pedro)) # o professor jonata leciona a pedro?\n",
    "pedro.add_nota(poo, 100)\n",
    "pedro.add_nota(mat_discreta, 80)\n",
    "pedro.add_presenca(poo, 27)\n",
    "pedro.add_presenca(sistemas, 30)\n",
    "print(\"media de notas do pedro (100, 80 e 0):\")\n",
    "print(pedro.media_notas())\n",
    "print(\"media de presenca do pedro (27, 30 e 0):\")\n",
    "print(pedro.media_presenca())\n",
    "print(\"turmas da larissa:\")\n",
    "print(larissa.ver_turmas())"
   ]
  },
  {
   "cell_type": "markdown",
   "id": "6d69719e",
   "metadata": {},
   "source": [
    "#### Exercício 3: Crie uma classe que modela um polinômio do tipo c0 + c1*x + c2*x^2 + … + cN*x^N . Os usuários serão estudantes de engenharia e ciências da computação que querem resolver exercícios de álgebra. A entrada são os N coeficientes em ordem crescente de potência. Os usuários precisarão acessar o grau do polinômio, avaliar o resultado para dado valor de x, somar e multiplicar dois polinômios."
   ]
  },
  {
   "cell_type": "code",
   "execution_count": 69,
   "id": "3ad919f3",
   "metadata": {},
   "outputs": [
    {
     "name": "stdout",
     "output_type": "stream",
     "text": [
      "2\n",
      "77\n",
      "[5, 8, 14, 9]\n",
      "[6, 20, 51, 74, 85, 63, 0, 0]\n"
     ]
    }
   ],
   "source": [
    "# coisas: grau do polinomio, resultado para tal x, somar e multiplicar\n",
    "class Polinomio:\n",
    "    def __init__(self, coeficientes=[]):\n",
    "        self.coeficientes = coeficientes\n",
    "    \n",
    "    def grau_polinomio(self):\n",
    "        return len(self.coeficientes) - 1\n",
    "    \n",
    "    def resultado_polinomio(self, x):\n",
    "        resultado = 0\n",
    "        for i in range(len(self.coeficientes)):\n",
    "            resultado += self.coeficientes[i] * (x**i)\n",
    "        return resultado\n",
    "    \n",
    "    def somar_polinomios(self, polinomio):\n",
    "        if len(self.coeficientes) >= len(polinomio.coeficientes):\n",
    "            menor = list(polinomio.coeficientes)\n",
    "            soma = list(self.coeficientes)\n",
    "        else:\n",
    "            soma = list(polinomio.coeficientes)\n",
    "            menor = list(self.coeficientes)\n",
    "        for i in range(len(menor)):\n",
    "            soma[i] += menor[i]\n",
    "        return soma\n",
    "    \n",
    "    def mult_polinomios(self, polinomio):\n",
    "        novo_coeficientes = [0] * (len(self.coeficientes) + len(polinomio.coeficientes) + 1)\n",
    "        for pot1, coef1 in enumerate(self.coeficientes):\n",
    "            for pot2, coef2 in enumerate(polinomio.coeficientes):\n",
    "                novo_coeficientes[pot1 + pot2] += coef1 * coef2\n",
    "        return novo_coeficientes\n",
    "    \n",
    "p1 = Polinomio([2, 4, 7])\n",
    "p2 = Polinomio([3, 4, 7, 9])\n",
    "print(p1.grau_polinomio())\n",
    "print(p1.resultado_polinomio(3))\n",
    "print(p1.somar_polinomios(p2))\n",
    "print(p1.mult_polinomios(p2))\n"
   ]
  },
  {
   "cell_type": "markdown",
   "id": "25fa52b8",
   "metadata": {},
   "source": [
    "#### Exercicio 2: Crie as classes necessárias para um sistema de gerenciamento de uma biblioteca. Os bibliotecários deverão preencher o sistema com o título do livro, os autores, o ano, a editora, a edição e o volume. A biblioteca também terá um sistema de pesquisa (outro software), portanto será necessário conseguir acessar os atributos típicos de pesquisa (nome, autor, …)."
   ]
  },
  {
   "cell_type": "code",
   "execution_count": 72,
   "id": "8d88d843",
   "metadata": {},
   "outputs": [
    {
     "name": "stdout",
     "output_type": "stream",
     "text": [
      "['Nome: Harry Potter e a Pedra Filosofal, Autor: J.K. Rowling, Ano: 1997', 'Nome: Harry Potter e a Camara Secreta, Autor: J.K. Rowling, Ano: 1997']\n",
      "['Nome: Harry Potter e a Pedra Filosofal, Autor: J.K. Rowling, Ano: 1997', 'Nome: Harry Potter e a Camara Secreta, Autor: J.K. Rowling, Ano: 1997']\n",
      "['Nome: A Culpa é das Estrelas, Autor: John Green, Ano: 2012', 'Nome: Harry Potter e a Pedra Filosofal, Autor: J.K. Rowling, Ano: 1997']\n"
     ]
    }
   ],
   "source": [
    "class Livro:\n",
    "    def __init__(self, titulo=str, autor=str, ano=int, editora=str, volume=int):\n",
    "        self.titulo = titulo\n",
    "        self.autor = autor\n",
    "        self.ano = ano\n",
    "        self.editora = editora\n",
    "        self.volume = volume\n",
    "        \n",
    "    def __str__(self):\n",
    "        return f\"Nome: {self.titulo}, Autor: {self.autor}, Ano: {self.ano}\"\n",
    "    \n",
    "class Biblioteca:\n",
    "    def __init__(self, nome=str):\n",
    "        self.nome = nome\n",
    "        self.acervo = []\n",
    "        \n",
    "    def cadastro_acervo(self, livros=[]):\n",
    "        for livro in livros:\n",
    "            self.acervo.append(livro)\n",
    "        \n",
    "    def pesquisa(self, tipo, pesquisa):\n",
    "        if tipo == \"titulo\":\n",
    "            return [str(i) for i in self.acervo if i.titulo == pesquisa]\n",
    "        elif tipo == \"autor\":\n",
    "            return [str(i) for i in self.acervo if i.autor == pesquisa]\n",
    "        elif tipo == \"ano\":\n",
    "            return [str(i) for i in self.acervo if i.ano == pesquisa]\n",
    "        elif tipo == \"editora\":\n",
    "            return [str(i) for i in self.acervo if i.editora == pesquisa]\n",
    "        else:\n",
    "            return [str(i) for i in self.acervo if i.titulo == pesquisa]\n",
    "        \n",
    "bu = Biblioteca(\"Biblioteca Universitaria\")\n",
    "\n",
    "#livros\n",
    "livro1 = Livro(\"A Culpa é das Estrelas\", \"John Green\", 2012, \"Intrinseca\", 1)\n",
    "livro2 = Livro(\"Harry Potter e a Pedra Filosofal\", \"J.K. Rowling\", 1997, \"Intrinseca\", 1)\n",
    "livro3 = Livro(\"O Senhor dos Anéis: A Sociedade do Anel\", \"J.R.R. Tolkien\", 1954, \"Martins Fontes\", 1)\n",
    "livro4 = Livro(\"Harry Potter e a Camara Secreta\", \"J.K. Rowling\", 1997, \"Record\", 1)\n",
    "livro5 = Livro(\"1984\", \"George Orwell\", 1949, \"Companhia das Letras\", 1)\n",
    "\n",
    "#metodos\n",
    "bu.cadastro_acervo([livro1, livro2, livro3, livro4, livro5])\n",
    "print(bu.pesquisa(\"autor\", \"J.K. Rowling\"))\n",
    "print(bu.pesquisa(\"ano\", 1997))\n",
    "print(bu.pesquisa(\"editora\", \"Intrinseca\"))\n",
    "    "
   ]
  },
  {
   "cell_type": "code",
   "execution_count": null,
   "id": "ed0a1283",
   "metadata": {},
   "outputs": [],
   "source": []
  }
 ],
 "metadata": {
  "kernelspec": {
   "display_name": "Python 3 (ipykernel)",
   "language": "python",
   "name": "python3"
  },
  "language_info": {
   "codemirror_mode": {
    "name": "ipython",
    "version": 3
   },
   "file_extension": ".py",
   "mimetype": "text/x-python",
   "name": "python",
   "nbconvert_exporter": "python",
   "pygments_lexer": "ipython3",
   "version": "3.9.6"
  }
 },
 "nbformat": 4,
 "nbformat_minor": 5
}
