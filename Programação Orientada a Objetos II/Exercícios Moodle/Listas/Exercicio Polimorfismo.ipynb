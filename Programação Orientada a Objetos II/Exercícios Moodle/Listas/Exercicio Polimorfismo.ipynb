{
 "cells": [
  {
   "cell_type": "markdown",
   "metadata": {},
   "source": [
    "# Exercício de Polimorfismo | POO II \n",
    "### Pedro Henrique Gimenez - 23102766\n",
    "---"
   ]
  },
  {
   "cell_type": "markdown",
   "metadata": {},
   "source": [
    "### **Enunciado:**\n",
    "Crie uma classe chamada Transporte para representar um veículo de transporte. A classe possui cinco atributos, denominados:\n",
    "- nome: nome do veículo de transporte;\n",
    "- altura: altura do veículo de transporte em metros (m);\n",
    "- comprimento: comprimento do veículo de transporte em metros (m);\n",
    "- carga: capacidade de carga do veículo de transporte em toneladas (t);\n",
    "- velocidade: velocidade do veículo de transporte em quilômetros por hora (km/h)\n",
    "\n",
    "Estenda a classe Transporte para implementar uma classe chamada TransporteAereo para representar um veículo de transporte aéreo. A classe possui dois atributos, denominados:\n",
    "- autonomia: autonomia de voo do veículo de transporte aéreo em quilômetros (km);\n",
    "- envergadura: envergadura da asa do veículo de transporte aéreo em metros (m).\n",
    "\n",
    "Estenda a classe Transporte para implementar uma classe chamada TransporteTerrestre para representar um veículo de transporte terrestre. A classe possui dois atributos, denominados:\n",
    "- motor: motor do veículo de transporte terrestre, do tipo String;\n",
    "- rodas: rodas do veículo de transporte terrestre, do tipo String.\n",
    "\n",
    "Estenda a classe Transporte para implementar uma classe chamada TransporteAquatico para representar um veículo de transporte marítimo. A classe possui dois atributos, denominados:\n",
    "- boca: boca náutica do veículo de transporte marítimo em metros (m);\n",
    "- calado: calado do veículo de transporte marítimo em metros (m).\n",
    "\n",
    "Desenvolva uma classe chamada Catálogo para representar um catálogo de veículos de transporte, implementando os métodos para inserção e apresentação (mostrar) dos veículos de transporte cadastrados.\n",
    "\n",
    "---\n"
   ]
  },
  {
   "cell_type": "markdown",
   "metadata": {},
   "source": [
    "#### Classe mãe - Transporte"
   ]
  },
  {
   "cell_type": "code",
   "execution_count": 6,
   "metadata": {},
   "outputs": [],
   "source": [
    "from abc import ABC\n",
    "\n",
    "class Transporte(ABC):\n",
    "    def __init__(self, nome: str, altura: int, comprimento: int, carga: int, velocidade: int):\n",
    "        if isinstance(nome, str):\n",
    "            self.__nome = nome\n",
    "        if isinstance(altura, int):\n",
    "            self.__altura = altura\n",
    "        if isinstance(comprimento, int):\n",
    "            self.__comprimento = comprimento\n",
    "        if isinstance(carga, int):\n",
    "            self.__carga = carga\n",
    "        if isinstance(velocidade, int):\n",
    "            self.__velocidade = velocidade \n",
    "     \n",
    "    @property\n",
    "    def nome(self):\n",
    "        return self.__nome\n",
    "    \n",
    "    @property\n",
    "    def altura(self):\n",
    "        return self.__altura\n",
    "    \n",
    "    @property\n",
    "    def comprimento(self):\n",
    "        return self.__comprimento\n",
    "    \n",
    "    @property\n",
    "    def carga(self):\n",
    "        return self.__carga\n",
    "    \n",
    "    @property\n",
    "    def velocidade(self):\n",
    "        return self.__velocidade\n",
    "    \n",
    "    @velocidade.setter\n",
    "    def velocidade(self, velocidade):\n",
    "        self.__velocidade = velocidade\n",
    "       \n",
    "    def __str__(self):\n",
    "        resultado = f'Nome: {self.nome}\\n'\n",
    "        resultado += f'Altura: {self.altura} m\\n'\n",
    "        resultado += f'Comprimento: {self.comprimento} m\\n'\n",
    "        resultado += f'Carga: {self.carga} t\\n'\n",
    "        resultado += f'Velocidade: {self.velocidade} km/s\\n'\n",
    "        return resultado"
   ]
  },
  {
   "cell_type": "markdown",
   "metadata": {},
   "source": [
    "#### Classe Transporte Aéreo"
   ]
  },
  {
   "cell_type": "code",
   "execution_count": 14,
   "metadata": {},
   "outputs": [],
   "source": [
    "class TransporteAereo(Transporte):\n",
    "    def __init__(self, nome: str, altura: int, comprimento: int, carga: int, velocidade: int, autonomia: int, envergadura: int):\n",
    "        super().__init__(nome, altura, comprimento, carga, velocidade)\n",
    "        if isinstance(autonomia, int):\n",
    "            self.__autonomia = autonomia\n",
    "        if isinstance(envergadura, int):\n",
    "            self.__envergadura = envergadura\n",
    "    \n",
    "    @property\n",
    "    def autonomia(self):\n",
    "        return self.__autonomia\n",
    "    \n",
    "    @property\n",
    "    def envergadura(self):\n",
    "        return self.__envergadura\n",
    "    \n",
    "    def __str__(self):\n",
    "        resultado = super().__str__()\n",
    "        resultado += f'Autonomia: {self.autonomia} km\\n'\n",
    "        resultado += f'Envergadura: {self.envergadura} m\\n'\n",
    "        return resultado"
   ]
  },
  {
   "cell_type": "markdown",
   "metadata": {},
   "source": [
    "#### Classe Transporte Terrestre"
   ]
  },
  {
   "cell_type": "code",
   "execution_count": 15,
   "metadata": {},
   "outputs": [],
   "source": [
    "class TransporteTerrestre(Transporte):\n",
    "    def __init__(self, nome: str, altura: int, comprimento: int, carga: int, velocidade: int, motor: str, rodas: str):\n",
    "        super().__init__(nome, altura, comprimento, carga, velocidade)\n",
    "        if isinstance(motor, str):\n",
    "            self.__motor = motor\n",
    "        if isinstance(rodas, str):\n",
    "            self.__rodas = rodas\n",
    "        \n",
    "    @property\n",
    "    def motor(self):\n",
    "        return self.__motor\n",
    "    \n",
    "    @property\n",
    "    def rodas(self):\n",
    "        return self.__rodas\n",
    "    \n",
    "    def __str__(self):\n",
    "        resultado = super().__str__()\n",
    "        resultado += f'Motor: {self.motor}\\n'\n",
    "        resultado += f'Rodas: {self.comprimento}\\n'\n",
    "        return resultado"
   ]
  },
  {
   "cell_type": "markdown",
   "metadata": {},
   "source": [
    "#### Classe Transporte Aquático"
   ]
  },
  {
   "cell_type": "code",
   "execution_count": 16,
   "metadata": {},
   "outputs": [],
   "source": [
    "class TransporteAquatico(Transporte):\n",
    "    def __init__(self, nome: str, altura: int, comprimento: int, carga: int, velocidade: int, boca: int, calado: int):\n",
    "        super().__init__(nome, altura, comprimento, carga, velocidade)\n",
    "        if isinstance(boca, int):\n",
    "            self.__boca = boca\n",
    "        if isinstance(calado, int):\n",
    "            self.__calado = calado\n",
    "        \n",
    "    @property\n",
    "    def boca(self):\n",
    "        return self.__boca\n",
    "    \n",
    "    @property\n",
    "    def calado(self):\n",
    "        return self.__calado\n",
    "    \n",
    "    def __str__(self):\n",
    "        resultado = super().__str__()\n",
    "        resultado += f'Boca: {self.boca} m\\n'\n",
    "        resultado += f'Calado: {self.calado} m\\n'\n",
    "        return resultado"
   ]
  },
  {
   "cell_type": "markdown",
   "metadata": {},
   "source": [
    "#### Classe Catálogo"
   ]
  },
  {
   "cell_type": "code",
   "execution_count": 26,
   "metadata": {},
   "outputs": [],
   "source": [
    "class Catalogo:\n",
    "    def __init__(self, transportes=[]):\n",
    "        if isinstance(transportes, Transporte):\n",
    "            self.__catalogo = [transportes]\n",
    "        elif all(isinstance(transporte, Transporte) for transporte in transportes) or transportes == []:\n",
    "            self.__catalogo = transportes\n",
    "    \n",
    "    def inserirCatalogo(self, transportes):\n",
    "        if isinstance(transportes, Transporte):\n",
    "            self.__catalogo.append(transportes)\n",
    "        elif isinstance(transportes, list):\n",
    "            for transporte in transportes:\n",
    "                if isinstance(transporte, Transporte):\n",
    "                    self.__catalogo.append(transporte)\n",
    "    \n",
    "    def excluirCatalogo(self, transportes):\n",
    "        if isinstance(transportes, Transporte) and transportes in self.__catalogo:\n",
    "            self.__catalogo.remove(transportes)\n",
    "        elif isinstance(transportes, list):\n",
    "            for transporte in transportes:\n",
    "                if isinstance(transporte, Transporte) and transporte in self.__catalogo:\n",
    "                    self.__catalogo.remove(transporte)\n",
    "                    \n",
    "    def __str__(self) -> str:\n",
    "        resultado = \"-*- Veículos do catalogo -*-\\n\"\n",
    "        for transporte in self.__catalogo:\n",
    "            resultado += str(transporte)\n",
    "            resultado += \"------------\\n\"\n",
    "        return resultado"
   ]
  },
  {
   "cell_type": "markdown",
   "metadata": {},
   "source": [
    "#### Testando as classes"
   ]
  },
  {
   "cell_type": "code",
   "execution_count": 28,
   "metadata": {},
   "outputs": [
    {
     "name": "stdout",
     "output_type": "stream",
     "text": [
      "-*- Veículos do catalogo -*-\n",
      "Nome: Jatinho\n",
      "Altura: 8 m\n",
      "Comprimento: 90 m\n",
      "Carga: 10 t\n",
      "Velocidade: 900 km/s\n",
      "Autonomia: 98 km\n",
      "Envergadura: 9 m\n",
      "------------\n",
      "Nome: Submarino\n",
      "Altura: 3 m\n",
      "Comprimento: 5 m\n",
      "Carga: 80 t\n",
      "Velocidade: 100 km/s\n",
      "Boca: 8 m\n",
      "Calado: 9 m\n",
      "------------\n",
      "\n"
     ]
    }
   ],
   "source": [
    "# iniciando transportes\n",
    "aviao = TransporteAereo(\"Jatinho\", 8, 90, 10, 900, 98, 9)\n",
    "carro = TransporteTerrestre(\"Carro\", 3, 8, 90, 250, \"3.0\", \"4\")\n",
    "submarino = TransporteAquatico(\"Submarino\", 3, 5, 80, 100, 8, 9)\n",
    "\n",
    "# iniciando catalogo\n",
    "catalogo = Catalogo(aviao)\n",
    "catalogo.inserirCatalogo([carro, submarino])\n",
    "catalogo.excluirCatalogo(carro)\n",
    "print(str(catalogo))"
   ]
  }
 ],
 "metadata": {
  "kernelspec": {
   "display_name": "Python 3",
   "language": "python",
   "name": "python3"
  },
  "language_info": {
   "codemirror_mode": {
    "name": "ipython",
    "version": 3
   },
   "file_extension": ".py",
   "mimetype": "text/x-python",
   "name": "python",
   "nbconvert_exporter": "python",
   "pygments_lexer": "ipython3",
   "version": "3.9.6"
  },
  "orig_nbformat": 4
 },
 "nbformat": 4,
 "nbformat_minor": 2
}
