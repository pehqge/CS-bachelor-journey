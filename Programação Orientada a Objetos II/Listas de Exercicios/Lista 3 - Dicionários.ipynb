{
 "cells": [
  {
   "cell_type": "markdown",
   "metadata": {},
   "source": [
    "# Lista de Exercícios 3 | POO II \n",
    "### Pedro Henrique Gimenez - 23102766\n",
    "---"
   ]
  },
  {
   "cell_type": "markdown",
   "metadata": {},
   "source": [
    "#### **Exercício 1**. Escreva uma função que conta a frequência de ocorrência de cada palavra em um texto (arquivo txt) e armazena tal quantidade em um dicionário, onde a chave é a vogal considerada"
   ]
  },
  {
   "cell_type": "code",
   "execution_count": 2,
   "metadata": {},
   "outputs": [
    {
     "name": "stdout",
     "output_type": "stream",
     "text": [
      "{'comi': 1, 'batata': 2, 'e': 1, 'depois': 1, 'jantei': 1, 'um': 1, 'moranguinho': 1, 'com': 1}\n",
      "{'a': 4, 'e': 3, 'i': 4, 'o': 4, 'u': 2}\n"
     ]
    }
   ],
   "source": [
    "#transformando o .txt em lista\n",
    "arquivo = open(\"texto.txt\", \"r\")\n",
    "leitura = arquivo.read()\n",
    "lista_arquivo = leitura.replace(\",\", \"\").replace(\".\", \"\").split()\n",
    "arquivo.close()\n",
    "\n",
    "#iniciando dicionarios\n",
    "palavras = {i: lista_arquivo.count(i) for i in lista_arquivo}\n",
    "vogais = {\"a\": 0, \"e\": 0, \"i\": 0, \"o\": 0, \"u\": 0}\n",
    "\n",
    "for i in palavras:\n",
    "    if \"a\" in i:\n",
    "        vogais[\"a\"] += palavras[i]\n",
    "    if \"e\" in i:\n",
    "        vogais[\"e\"] += palavras[i]\n",
    "    if \"i\" in i:\n",
    "        vogais[\"i\"] += palavras[i]\n",
    "    if \"o\" in i:\n",
    "        vogais[\"o\"] += palavras[i]\n",
    "    if \"u\" in i:\n",
    "        vogais[\"u\"] += palavras[i]\n",
    "\n",
    "print(palavras)\n",
    "print(vogais)\n"
   ]
  },
  {
   "cell_type": "markdown",
   "metadata": {},
   "source": [
    "#### **Exercício 2**. Escreva uma função que apaga do dicionário anterior, todas as palavras que sejam ‘stopwords’. Ver https://gist.github.com/alopes/5358189"
   ]
  },
  {
   "cell_type": "code",
   "execution_count": 6,
   "metadata": {},
   "outputs": [
    {
     "name": "stdout",
     "output_type": "stream",
     "text": [
      "{'comi': 1, 'batata': 2, 'jantei': 1, 'moranguinho': 1}\n"
     ]
    }
   ],
   "source": [
    "def apagarStopwords(dicionario, arquivo):\n",
    "    abrir = open(arquivo, \"r\")\n",
    "    leitura = abrir.read()\n",
    "    lista_stopwords = leitura.split(\" \\n\")\n",
    "    abrir.close()\n",
    "    for i in lista_stopwords:\n",
    "        if i in dicionario:\n",
    "            del dicionario[i]\n",
    "    return dicionario\n",
    "\n",
    "palavras = apagarStopwords(palavras, \"stopwords.txt\")\n",
    "print(palavras)"
   ]
  },
  {
   "cell_type": "markdown",
   "metadata": {},
   "source": [
    "#### **Exercício 3**. Escreva um programa que lê duas notas de vários alunos e armazena tais notas em um dicionário, onde a chave é o nome do aluno. A entrada de dados deve terminar quando for lida uma string vazia como nome. Escreva uma função que retorna a média do aluno, dado seu nome."
   ]
  },
  {
   "cell_type": "code",
   "execution_count": 8,
   "metadata": {},
   "outputs": [
    {
     "name": "stdout",
     "output_type": "stream",
     "text": [
      "18.0\n",
      "14.5\n"
     ]
    }
   ],
   "source": [
    "notas = {}\n",
    "\n",
    "def mediaAluno(aluno):\n",
    "    return sum(notas[aluno]) / len(notas[aluno])\n",
    "\n",
    "while True: #recebe alunos e notas\n",
    "    aluno = input(\"Escreva o nome do aluno (aperte Enter para parar):\")\n",
    "    if aluno == \"\":\n",
    "        break\n",
    "    nota = list(map(int, input(\"Escreva as notas do aluno separadas por um espaço:\").split()))\n",
    "    notas[aluno] = nota\n",
    "\n",
    "while True: #recebe qual aluno para a media\n",
    "    aluno = input(\"Qual aluno você quer a média?\")\n",
    "    if aluno == \"\":\n",
    "        break\n",
    "    print(mediaAluno(aluno))\n"
   ]
  },
  {
   "cell_type": "markdown",
   "metadata": {},
   "source": [
    "#### **Exercício 5**. Escreva um programa para armazenar uma agenda de telefones usando um dicionário. Cada pessoa pode ter um ou mais telefones e a chave do dicionário é o nome completo da pessoa. Seu programa deve ter as seguintes funções:\n",
    "- **incluir_novo_nome** – essa função acrescenta um novo nome na agenda, com um ou mais telefones. Ela deve receber como argumentos o nome e os telefones.\n",
    "- **incluir_telefone** – essa função acrescenta um telefone em um nome existente na agenda. Caso o nome não exista na agenda, você deve perguntar se a pessoa deseja incluí-lo. Caso a resposta seja afirmativa, use a função anterior para incluir o novo nome.\n",
    "- **excluir_telefone** – essa função exclui um telefone de uma pessoa que já está na agenda. Se a pessoa tiver apenas um telefone, ela deve ser excluída da agenda.\n",
    "- **excluir_nome** – essa função exclui uma pessoa da agenda.\n",
    "- **consultar_telefone** – essa função retorna os telefones de uma pessoa na agenda.\n"
   ]
  },
  {
   "cell_type": "code",
   "execution_count": 34,
   "metadata": {},
   "outputs": [
    {
     "name": "stdout",
     "output_type": "stream",
     "text": [
      "{'pedro': [1199736454, 2499456676], 'maria': [1199736454, 2499456676]}\n",
      "{'pedro': [1199736454, 2499456676, 1, 2], 'maria': [1199736454, 2499456676], 'jose': [1194848585]}\n",
      "{'pedro': [1199736454, 2499456676, 1, 2], 'maria': [1199736454, 2499456676]}\n",
      "[1199736454, 2499456676]\n"
     ]
    }
   ],
   "source": [
    "agenda = {}\n",
    "\n",
    "def incluir_novo_nome(nome, telefones):\n",
    "    agenda[nome] = telefones\n",
    "\n",
    "def incluir_telefone(nome, telefone):\n",
    "    if nome not in agenda:\n",
    "        resposta = input(\"O nome não existe, deseja incluir? (s/n)\").lower()\n",
    "        if resposta == \"n\":\n",
    "            pass\n",
    "        else:\n",
    "            incluir_novo_nome(nome, telefone)\n",
    "    else:\n",
    "        for i in telefone:\n",
    "            agenda[nome].append(i)\n",
    "            \n",
    "def excluir_telefone(nome, telefone):\n",
    "    if len(agenda[nome]) == 1:\n",
    "        del agenda[nome]\n",
    "    else:\n",
    "        for i in telefone:\n",
    "            agenda[nome].remove(i)\n",
    "            \n",
    "def excluir_nome(nome):\n",
    "    del agenda[nome]\n",
    "    \n",
    "def consultar_telefone(nome):\n",
    "    return agenda[nome]\n",
    "\n",
    "incluir_novo_nome(\"pedro\", [1199736454, 2499456676])\n",
    "incluir_novo_nome(\"maria\", [1199736454, 2499456676])\n",
    "print(agenda)\n",
    "incluir_telefone(\"pedro\", [1, 2])\n",
    "incluir_telefone(\"jose\", [1194848585])\n",
    "print(agenda)\n",
    "excluir_telefone(\"jose\", 1194848585)\n",
    "print(agenda)\n",
    "excluir_nome(\"pedro\")\n",
    "print(consultar_telefone(\"maria\"))"
   ]
  },
  {
   "cell_type": "markdown",
   "metadata": {},
   "source": [
    "#### **Exercício 6.** Criar 10 frozensets com 30 números aleatórios cada, e construir um dicionário que contenha a soma de cada um deles."
   ]
  },
  {
   "cell_type": "code",
   "execution_count": 41,
   "metadata": {},
   "outputs": [],
   "source": [
    "from random import sample\n",
    "frozen = {}\n",
    "for i in range(10):\n",
    "    frozensett = frozenset(sample(range(1, 100), 30))\n",
    "    frozen[frozensett] = sum(frozensett)\n",
    "print(frozen)\n",
    "\n"
   ]
  },
  {
   "cell_type": "code",
   "execution_count": null,
   "metadata": {},
   "outputs": [],
   "source": []
  },
  {
   "cell_type": "code",
   "execution_count": null,
   "metadata": {},
   "outputs": [],
   "source": []
  }
 ],
 "metadata": {
  "kernelspec": {
   "display_name": "Python 3",
   "language": "python",
   "name": "python3"
  },
  "language_info": {
   "codemirror_mode": {
    "name": "ipython",
    "version": 3
   },
   "file_extension": ".py",
   "mimetype": "text/x-python",
   "name": "python",
   "nbconvert_exporter": "python",
   "pygments_lexer": "ipython3",
   "version": "3.9.6"
  },
  "orig_nbformat": 4
 },
 "nbformat": 4,
 "nbformat_minor": 2
}
